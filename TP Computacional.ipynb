{
 "cells": [
  {
   "cell_type": "markdown",
   "metadata": {},
   "source": [
    "# Trabajo practico computacional\n",
    "\n",
    "## Fuerza de vínculo\n",
    "\n",
    "\n"
   ]
  },
  {
   "cell_type": "code",
   "execution_count": null,
   "metadata": {
    "executionInfo": {
     "elapsed": 1371,
     "status": "ok",
     "timestamp": 1603717256437,
     "user": {
      "displayName": ";O :P",
      "photoUrl": "https://lh3.googleusercontent.com/a-/AOh14GjXbhhpTvPhi6XhBQ8FkjqSEsoTREDf2MbY5n0W=s64",
      "userId": "07782890911634442231"
     },
     "user_tz": 180
    },
    "id": "tt4Jpbac4TD7"
   },
   "outputs": [],
   "source": []
  },
  {
   "cell_type": "markdown",
   "metadata": {},
   "source": [
    "$$F_v = 3mg\\cos{\\theta}+2kR\\sin^2{\\theta}-kR$$"
   ]
  },
  {
   "cell_type": "code",
   "execution_count": null,
   "metadata": {
    "executionInfo": {
     "elapsed": 683,
     "status": "ok",
     "timestamp": 1603717257016,
     "user": {
      "displayName": ";O :P",
      "photoUrl": "https://lh3.googleusercontent.com/a-/AOh14GjXbhhpTvPhi6XhBQ8FkjqSEsoTREDf2MbY5n0W=s64",
      "userId": "07782890911634442231"
     },
     "user_tz": 180
    },
    "id": "ltJPbJff5Xgp"
   },
   "outputs": [],
   "source": [
    "import numpy as np\n",
    "\n",
    "\n",
    "\n",
    "pi = np.pi\n",
    "g = 9.81\n",
    "m = 1\n",
    "k = 50\n",
    "R = 1\n",
    "b = k*R\n",
    "\n",
    "θ = np.linspace(0,pi,100)\n",
    "y = 3*m*g*np.cos(θ)+2*b*np.sin(θ)*np.sin(θ)-b\n",
    "\n",
    "\n",
    "from matplotlib import pyplot as plt\n",
    "plt.ion()\n",
    "\n",
    "\n",
    "plt.plot(θ,y)\n",
    "plt.xlabel('θ(rad)')\n",
    "plt.ylabel('Fv(Newton)')\n",
    "plt.title('Gráfico de Fv vs θ')\n",
    "plt.grid()"
   ]
  },
  {
   "cell_type": "code",
   "execution_count": null,
   "metadata": {},
   "outputs": [],
   "source": []
  },
  {
   "cell_type": "code",
   "execution_count": null,
   "metadata": {},
   "outputs": [],
   "source": []
  }
 ],
 "metadata": {
  "colab": {
   "authorship_tag": "ABX9TyNEgBsycX8PBR4oQbHkOGaR",
   "name": "Fuerza_Vinculo.ipynb",
   "provenance": []
  },
  "kernelspec": {
   "display_name": "Python 3",
   "language": "python",
   "name": "python3"
  },
  "language_info": {
   "codemirror_mode": {
    "name": "ipython",
    "version": 3
   },
   "file_extension": ".py",
   "mimetype": "text/x-python",
   "name": "python",
   "nbconvert_exporter": "python",
   "pygments_lexer": "ipython3",
   "version": "3.7.6"
  }
 },
 "nbformat": 4,
 "nbformat_minor": 1
}
